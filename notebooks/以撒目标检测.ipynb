{
 "cells": [
  {
   "cell_type": "markdown",
   "id": "dcb73b53",
   "metadata": {},
   "source": [
    "# 以撒道具/饰品目标检测"
   ]
  },
  {
   "cell_type": "code",
   "execution_count": null,
   "id": "29fad252",
   "metadata": {},
   "outputs": [],
   "source": []
  },
  {
   "cell_type": "code",
   "execution_count": 1,
   "id": "1945cf26",
   "metadata": {},
   "outputs": [],
   "source": [
    "import cv2\n",
    "import numpy as np\n",
    "import pyautogui\n",
    "import Quartz.CoreGraphics as CG"
   ]
  },
  {
   "cell_type": "code",
   "execution_count": 4,
   "id": "1de1113a",
   "metadata": {},
   "outputs": [
    {
     "data": {
      "text/plain": [
       "{\n",
       "    kCGWindowAlpha = 1;\n",
       "    kCGWindowBounds =     {\n",
       "        Height = 568;\n",
       "        Width = 960;\n",
       "        X = \"-388\";\n",
       "        Y = \"-1262\";\n",
       "    };\n",
       "    kCGWindowIsOnscreen = 1;\n",
       "    kCGWindowLayer = 0;\n",
       "    kCGWindowMemoryUsage = 2176;\n",
       "    kCGWindowName = \"Binding of Isaac: Repentance\";\n",
       "    kCGWindowNumber = 40963;\n",
       "    kCGWindowOwnerName = \"wine32on64-preloader\";\n",
       "    kCGWindowOwnerPID = 54481;\n",
       "    kCGWindowSharingState = 1;\n",
       "    kCGWindowStoreType = 1;\n",
       "}"
      ]
     },
     "execution_count": 4,
     "metadata": {},
     "output_type": "execute_result"
    }
   ],
   "source": [
    "windows = CG.CGWindowListCopyWindowInfo(CG.kCGWindowListOptionOnScreenOnly, CG.kCGNullWindowID)\n",
    "for window_info in  windows:\n",
    "    name = str(window_info.get('kCGWindowName'))\n",
    "#     print(name)\n",
    "    if name == \"Binding of Isaac: Repentance\":\n",
    "        break\n",
    "window_info"
   ]
  },
  {
   "cell_type": "code",
   "execution_count": 5,
   "id": "db4c19bf",
   "metadata": {},
   "outputs": [
    {
     "data": {
      "text/plain": [
       "{\n",
       "    Height = 568;\n",
       "    Width = 960;\n",
       "    X = \"-388\";\n",
       "    Y = \"-1262\";\n",
       "}"
      ]
     },
     "execution_count": 5,
     "metadata": {},
     "output_type": "execute_result"
    }
   ],
   "source": [
    "window_info.get(\"kCGWindowBounds\")\n"
   ]
  },
  {
   "cell_type": "code",
   "execution_count": 15,
   "id": "009abb34",
   "metadata": {},
   "outputs": [
    {
     "name": "stdout",
     "output_type": "stream",
     "text": [
      "找不到游戏窗口\n"
     ]
    },
    {
     "ename": "TypeError",
     "evalue": "cannot unpack non-iterable NoneType object",
     "output_type": "error",
     "traceback": [
      "\u001b[0;31m---------------------------------------------------------------------------\u001b[0m",
      "\u001b[0;31mTypeError\u001b[0m                                 Traceback (most recent call last)",
      "Cell \u001b[0;32mIn[15], line 22\u001b[0m\n\u001b[1;32m     19\u001b[0m     \u001b[38;5;28mprint\u001b[39m(\u001b[38;5;124m\"\u001b[39m\u001b[38;5;124m找不到游戏窗口\u001b[39m\u001b[38;5;124m\"\u001b[39m)\n\u001b[1;32m     20\u001b[0m     exit()\n\u001b[0;32m---> 22\u001b[0m x, y, width, height \u001b[38;5;241m=\u001b[39m window_info\n\u001b[1;32m     24\u001b[0m \u001b[38;5;66;03m# 定义编码器，创建 VideoWriter 对象\u001b[39;00m\n\u001b[1;32m     25\u001b[0m fourcc \u001b[38;5;241m=\u001b[39m cv2\u001b[38;5;241m.\u001b[39mVideoWriter_fourcc(\u001b[38;5;241m*\u001b[39m\u001b[38;5;124m\"\u001b[39m\u001b[38;5;124mXVID\u001b[39m\u001b[38;5;124m\"\u001b[39m)\n",
      "\u001b[0;31mTypeError\u001b[0m: cannot unpack non-iterable NoneType object"
     ]
    }
   ],
   "source": [
    "# 获取游戏窗口位置和尺寸\n",
    "def get_window_info(window_title):\n",
    "    windows = CG.CGWindowListCopyWindowInfo(CG.kCGWindowListOptionOnScreenOnly, CG.kCGNullWindowID)\n",
    "\n",
    "    for window in windows:\n",
    "        if window.get('kCGWindowName') == window_title.encode():\n",
    "            x = int(window['kCGWindowBounds']['X'])\n",
    "            y = int(window['kCGWindowBounds']['Y'])\n",
    "            width = int(window['kCGWindowBounds']['Width'])\n",
    "            height = int(window['kCGWindowBounds']['Height'])\n",
    "            return x, y, width, height\n",
    "\n",
    "    return None\n",
    "\n",
    "# 获取游戏窗口句柄\n",
    "game_window_title = 'Binding of Isaac: Repentance'\n",
    "window_info = get_window_info(game_window_title)\n",
    "if not window_info:\n",
    "    print(\"找不到游戏窗口\")\n",
    "    exit()\n",
    "\n",
    "x, y, width, height = window_info\n",
    "\n",
    "# 定义编码器，创建 VideoWriter 对象\n",
    "fourcc = cv2.VideoWriter_fourcc(*\"XVID\")\n",
    "out = cv2.VideoWriter('output.avi', fourcc, 30.0, (width, height))\n",
    "\n",
    "# 在主循环中获取游戏窗口截图并保存\n",
    "while True:\n",
    "    try:\n",
    "        # 使用 pyautogui 截图，并将 PIL Image 转换为 OpenCV 格式\n",
    "        screenshot = pyautogui.screenshot(region=(x, y, width, height))\n",
    "        frame = np.array(screenshot)\n",
    "        frame = cv2.cvtColor(frame, cv2.COLOR_RGB2BGR)\n",
    "\n",
    "        # 写入文件\n",
    "        out.write(frame)\n",
    "\n",
    "        # 显示截图窗口（可选）\n",
    "        cv2.imshow('Game Capture', frame)\n",
    "\n",
    "        # 如果用户按下 'q' 键，退出\n",
    "        if cv2.waitKey(1) == ord('q'):\n",
    "            break\n",
    "    except Exception as e:\n",
    "        print(e)\n",
    "\n",
    "# 结束录制，释放资源\n",
    "out.release()\n",
    "cv2.destroyAllWindows()"
   ]
  },
  {
   "cell_type": "code",
   "execution_count": 7,
   "id": "6e51bc75",
   "metadata": {},
   "outputs": [
    {
     "name": "stderr",
     "output_type": "stream",
     "text": [
      "2024-01-31 13:44:21.437 Python[56891:4456075] WARNING: Secure coding is not enabled for restorable state! Enable secure coding by implementing NSApplicationDelegate.applicationSupportsSecureRestorableState: and returning YES.\n",
      "2024-01-31 13:44:26.775 Python[56891:4456075] _TIPropertyValueIsValid called with 11 on nil context!\n",
      "2024-01-31 13:44:26.775 Python[56891:4456075] imkxpc_setApplicationProperty:value:reply: called with incorrect property value 11, bailing.\n",
      "2024-01-31 13:44:26.775 Python[56891:4456075] _TIPropertyValueIsValid called with 12 on nil context!\n",
      "2024-01-31 13:44:26.775 Python[56891:4456075] imkxpc_setApplicationProperty:value:reply: called with incorrect property value 12, bailing.\n",
      "2024-01-31 13:44:26.775 Python[56891:4456075] _TIPropertyValueIsValid called with 11 on nil context!\n",
      "2024-01-31 13:44:26.775 Python[56891:4456075] imkxpc_setApplicationProperty:value:reply: called with incorrect property value 11, bailing.\n",
      "2024-01-31 13:44:26.775 Python[56891:4456075] _TIPropertyValueIsValid called with 12 on nil context!\n",
      "2024-01-31 13:44:26.775 Python[56891:4456075] imkxpc_setApplicationProperty:value:reply: called with incorrect property value 12, bailing.\n",
      "2024-01-31 13:48:47.624 Python[56891:4456075] _TIPropertyValueIsValid called with 11 on nil context!\n",
      "2024-01-31 13:48:47.624 Python[56891:4456075] imkxpc_setApplicationProperty:value:reply: called with incorrect property value 11, bailing.\n",
      "2024-01-31 13:48:47.624 Python[56891:4456075] _TIPropertyValueIsValid called with 12 on nil context!\n",
      "2024-01-31 13:48:47.624 Python[56891:4456075] imkxpc_setApplicationProperty:value:reply: called with incorrect property value 12, bailing.\n"
     ]
    }
   ],
   "source": [
    "\n",
    "import cv2\n",
    "import numpy as np\n",
    "import pyautogui\n",
    "\n",
    "# 获取屏幕尺寸\n",
    "screen_info = pyautogui.size()\n",
    "screen_size = (int(screen_info.width / 2), int(screen_info.height  / 2))\n",
    "print(screen_size)\n",
    "# 定义编码，创建VideoWriter对象\n",
    "fourcc = cv2.VideoWriter_fourcc(*\"XVID\")\n",
    "out = cv2.VideoWriter(\"output.avi\", fourcc, 60.0, screen_size)\n",
    "\n",
    "# 在主循环中获取屏幕截图   # 这个是屏幕截图, 原来如此, 有意思\n",
    "while True:\n",
    "    try:\n",
    "        img = pyautogui.screenshot()\n",
    "        # 将图片转换为numpy数组\n",
    "        frame = np.array(img)\n",
    "        # 转换颜色空间 (BGR to RGB)\n",
    "        frame_resized = cv2.resize(frame, None, fx=0.5, fy=0.5, interpolation=cv2.INTER_AREA)\n",
    "        frame = cv2.cvtColor(frame_resized, cv2.COLOR_BGR2RGB)\n",
    "        # 写入文件\n",
    "        out.write(frame)\n",
    "        # 显示结果\n",
    "        cv2.imshow('Screen Capture', frame)\n",
    "        \n",
    "        # 如果用户按下 'q' 键，退出\n",
    "        if cv2.waitKey(1) == ord('q'):\n",
    "            break\n",
    "    except Exception as e:\n",
    "        print(e)\n",
    "        break\n",
    "\n",
    "out.release()  # after recording, release the video\n",
    "# cv2.destroyAllWindows()  # close the window\n",
    "cv2.destroyAllWindows()  # close the window"
   ]
  },
  {
   "cell_type": "code",
   "execution_count": 9,
   "id": "fe2e224e",
   "metadata": {},
   "outputs": [],
   "source": []
  },
  {
   "cell_type": "code",
   "execution_count": null,
   "id": "7019666a",
   "metadata": {},
   "outputs": [],
   "source": []
  }
 ],
 "metadata": {
  "kernelspec": {
   "display_name": "Python 3 (ipykernel)",
   "language": "python",
   "name": "python3"
  },
  "language_info": {
   "codemirror_mode": {
    "name": "ipython",
    "version": 3
   },
   "file_extension": ".py",
   "mimetype": "text/x-python",
   "name": "python",
   "nbconvert_exporter": "python",
   "pygments_lexer": "ipython3",
   "version": "3.9.16"
  }
 },
 "nbformat": 4,
 "nbformat_minor": 5
}
